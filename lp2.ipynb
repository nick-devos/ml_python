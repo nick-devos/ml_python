{
 "cells": [
  {
   "cell_type": "code",
   "execution_count": 38,
   "metadata": {},
   "outputs": [
    {
     "data": {
      "text/plain": [
       "['loan_default_predictor.joblib']"
      ]
     },
     "execution_count": 38,
     "metadata": {},
     "output_type": "execute_result"
    }
   ],
   "source": [
    "import pandas as pd\n",
    "from sklearn.tree import DecisionTreeClassifier\n",
    "from sklearn.externals import joblib\n",
    "from sklearn import svm\n",
    "\n",
    "\n",
    "loan_data = pd.read_csv('loan_data.csv')\n",
    "X = loan_data.drop(columns = ['not.fully.paid'])\n",
    "y = loan_data['not.fully.paid']\n",
    "\n",
    "\n",
    "#model = DecisionTreeClassifier()\n",
    "model = svm.SVC(kernel = 'linear')\n",
    "model.fit(X, y)\n",
    "\n",
    "joblib.dump(model, 'loan_default_predictor.joblib')"
   ]
  },
  {
   "cell_type": "code",
   "execution_count": 40,
   "metadata": {},
   "outputs": [
    {
     "data": {
      "text/plain": [
       "array([0], dtype=int64)"
      ]
     },
     "execution_count": 40,
     "metadata": {},
     "output_type": "execute_result"
    }
   ],
   "source": [
    "import pandas as pd\n",
    "from sklearn.tree import DecisionTreeClassifier\n",
    "from sklearn.externals import joblib\n",
    "\n",
    "\n",
    "# loan_data = pd.read_csv('music-1.csv')\n",
    "# X = loan_data.drop(columns = ['genre'])\n",
    "# y = loan_data['genre']\n",
    "\n",
    "\n",
    "# model = DecisionTreeClassifier()\n",
    "# model.fit(X, y)\n",
    "\n",
    "#joblib.dump(model, 'music-recommender.joblib')\n",
    "joblib.load('loan_default_predictor.joblib')\n",
    "predictions = model.predict([[.11, 620]])\n",
    "predictions # 0 indicates that loan was fully paid back, 1 indicates that it was not"
   ]
  },
  {
   "cell_type": "code",
   "execution_count": null,
   "metadata": {},
   "outputs": [],
   "source": []
  }
 ],
 "metadata": {
  "kernelspec": {
   "display_name": "Python 3",
   "language": "python",
   "name": "python3"
  },
  "language_info": {
   "codemirror_mode": {
    "name": "ipython",
    "version": 3
   },
   "file_extension": ".py",
   "mimetype": "text/x-python",
   "name": "python",
   "nbconvert_exporter": "python",
   "pygments_lexer": "ipython3",
   "version": "3.7.6"
  }
 },
 "nbformat": 4,
 "nbformat_minor": 4
}
