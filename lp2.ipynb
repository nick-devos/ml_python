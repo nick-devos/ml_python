{
 "cells": [
  {
   "cell_type": "code",
   "execution_count": 1,
   "metadata": {},
   "outputs": [
    {
     "data": {
      "text/plain": [
       "['dt_loan_default_predictor.joblib']"
      ]
     },
     "execution_count": 1,
     "metadata": {},
     "output_type": "execute_result"
    }
   ],
   "source": [
    "#Creating a joblib with DecisionTreeClassifier\n",
    "import pandas as pd\n",
    "from sklearn.tree import DecisionTreeClassifier\n",
    "import joblib\n",
    "\n",
    "loan_data = pd.read_csv('loan_data.csv')\n",
    "X = loan_data.drop(columns = ['not.fully.paid'])\n",
    "y = loan_data['not.fully.paid']\n",
    "\n",
    "model = DecisionTreeClassifier()\n",
    "model.fit(X, y)\n",
    "\n",
    "joblib.dump(model, 'dt_loan_default_predictor.joblib')"
   ]
  },
  {
   "cell_type": "code",
   "execution_count": 2,
   "metadata": {},
   "outputs": [
    {
     "data": {
      "text/plain": [
       "array([1], dtype=int64)"
      ]
     },
     "execution_count": 2,
     "metadata": {},
     "output_type": "execute_result"
    }
   ],
   "source": [
    "#Use DecisionTree joblib to predict if a loan will be paid back in full from custom inputs of interest_rate and credit_score\n",
    "import pandas as pd\n",
    "import joblib\n",
    "\n",
    "joblib.load('dt_loan_default_predictor.joblib')\n",
    "predictions = model.predict([[.10, 550]])\n",
    "predictions # 0 indicates that loan will be fully paid back, 1 indicates that the loan will not be paid back in full"
   ]
  },
  {
   "cell_type": "code",
   "execution_count": 3,
   "metadata": {},
   "outputs": [
    {
     "data": {
      "text/plain": [
       "['SVM_loan_default_predictor.joblib']"
      ]
     },
     "execution_count": 3,
     "metadata": {},
     "output_type": "execute_result"
    }
   ],
   "source": [
    "#Creating a joblib with SVM\n",
    "import pandas as pd\n",
    "import joblib\n",
    "from sklearn import svm\n",
    "\n",
    "loan_data = pd.read_csv('loan_data.csv')\n",
    "X = loan_data.drop(columns = ['not.fully.paid'])\n",
    "y = loan_data['not.fully.paid']\n",
    "\n",
    "model = svm.SVC(kernel = 'linear')\n",
    "model.fit(X, y)\n",
    "\n",
    "joblib.dump(model, 'SVM_loan_default_predictor.joblib')"
   ]
  },
  {
   "cell_type": "code",
   "execution_count": 4,
   "metadata": {},
   "outputs": [
    {
     "data": {
      "text/plain": [
       "array([1], dtype=int64)"
      ]
     },
     "execution_count": 4,
     "metadata": {},
     "output_type": "execute_result"
    }
   ],
   "source": [
    "#Use SVM joblib to predict if a loan will be paid back in full from custom inputs of interest_rate and credit_score\n",
    "import pandas as pd\n",
    "import joblib\n",
    "\n",
    "joblib.load('SVM_loan_default_predictor.joblib')\n",
    "predictions = model.predict([[.10, 550]])\n",
    "predictions # 0 indicates that loan will be fully paid back, 1 indicates that the loan will not be paid back in full"
   ]
  },
  {
   "cell_type": "code",
   "execution_count": null,
   "metadata": {},
   "outputs": [],
   "source": []
  }
 ],
 "metadata": {
  "kernelspec": {
   "display_name": "Python 3",
   "language": "python",
   "name": "python3"
  },
  "language_info": {
   "codemirror_mode": {
    "name": "ipython",
    "version": 3
   },
   "file_extension": ".py",
   "mimetype": "text/x-python",
   "name": "python",
   "nbconvert_exporter": "python",
   "pygments_lexer": "ipython3",
   "version": "3.7.6"
  }
 },
 "nbformat": 4,
 "nbformat_minor": 4
}
