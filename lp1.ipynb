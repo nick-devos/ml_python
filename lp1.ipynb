{
 "cells": [
  {
   "cell_type": "code",
   "execution_count": 1,
   "metadata": {},
   "outputs": [
    {
     "name": "stdout",
     "output_type": "stream",
     "text": [
      "0.8082985386221299\n"
     ]
    }
   ],
   "source": [
    "#Accuracy scoring using DecisionTreeClassifier\n",
    "import pandas as pd\n",
    "from sklearn.tree import DecisionTreeClassifier\n",
    "from sklearn.model_selection import train_test_split\n",
    "from sklearn.metrics import accuracy_score\n",
    "\n",
    "total = 0\n",
    "for i in range(100):\n",
    "    loan_data = pd.read_csv('loan_data.csv')\n",
    "    X = loan_data.drop(columns = ['not.fully.paid'])\n",
    "    y = loan_data['not.fully.paid']\n",
    "    X_train, X_test, y_train, y_test = train_test_split(X, y, test_size = 0.2)\n",
    "    model = DecisionTreeClassifier()\n",
    "    model.fit(X_train, y_train)\n",
    "    predictions = model.predict(X_test)\n",
    "\n",
    "    score = accuracy_score(y_test, predictions)\n",
    "    total = total + score\n",
    "print(total/100)"
   ]
  },
  {
   "cell_type": "code",
   "execution_count": 2,
   "metadata": {},
   "outputs": [
    {
     "name": "stdout",
     "output_type": "stream",
     "text": [
      "0.8412943632567846\n"
     ]
    }
   ],
   "source": [
    "#Accuracy scoring using SVM\n",
    "#We get better results with SVM than with DecisionTreeClassifier\n",
    "import pandas as pd\n",
    "from sklearn.model_selection import train_test_split\n",
    "from sklearn.metrics import accuracy_score\n",
    "from sklearn import svm\n",
    "\n",
    "total = 0\n",
    "for i in range(100):\n",
    "    loan_data = pd.read_csv('loan_data.csv')\n",
    "    X = loan_data.drop(columns = ['not.fully.paid'])\n",
    "    y = loan_data['not.fully.paid']\n",
    "    X_train, X_test, y_train, y_test = train_test_split(X, y, test_size = 0.2)\n",
    "    model = svm.SVC(kernel = 'linear')\n",
    "    model.fit(X_train, y_train)\n",
    "    predictions = model.predict(X_test)\n",
    "\n",
    "    score = accuracy_score(y_test, predictions)\n",
    "    total = total + score\n",
    "print(total/100)"
   ]
  },
  {
   "cell_type": "code",
   "execution_count": 25,
   "metadata": {},
   "outputs": [
    {
     "name": "stdout",
     "output_type": "stream",
     "text": [
      "Decision Tree Prediction with interest rate of 0.15 and credit score of 700\n"
     ]
    },
    {
     "data": {
      "text/plain": [
       "array([1], dtype=int64)"
      ]
     },
     "execution_count": 25,
     "metadata": {},
     "output_type": "execute_result"
    }
   ],
   "source": [
    "#Result of decision tree prediction\n",
    "import pandas as pd\n",
    "from sklearn.tree import DecisionTreeClassifier\n",
    "from sklearn.model_selection import train_test_split\n",
    "from sklearn.metrics import accuracy_score\n",
    "\n",
    "interest_rate = .15\n",
    "credit_score = 700\n",
    "\n",
    "loan_data = pd.read_csv('loan_data.csv')\n",
    "X = loan_data.drop(columns = ['not.fully.paid'])\n",
    "y = loan_data['not.fully.paid']\n",
    "X_train, X_test, y_train, y_test = train_test_split(X, y, test_size = 0.2)\n",
    "\n",
    "model = DecisionTreeClassifier()\n",
    "model.fit(X_train, y_train)\n",
    "prediction = model.predict([[interest_rate, credit_score]])\n",
    "\n",
    "print('Decision Tree Prediction with interest rate of ' + str(interest_rate) + ' and credit score of ' + str(credit_score))\n",
    "prediction # 0 indicates that loan will be fully paid back, 1 indicates that the loan will not be paid back in full"
   ]
  },
  {
   "cell_type": "code",
   "execution_count": 27,
   "metadata": {},
   "outputs": [
    {
     "name": "stdout",
     "output_type": "stream",
     "text": [
      "SVM Prediction with interest rate of 0.15 and credit score of 700\n"
     ]
    },
    {
     "data": {
      "text/plain": [
       "array([0], dtype=int64)"
      ]
     },
     "execution_count": 27,
     "metadata": {},
     "output_type": "execute_result"
    }
   ],
   "source": [
    "#SVM prediction - may differ from decision tree prediction for certain inputs\n",
    "import pandas as pd\n",
    "from sklearn.model_selection import train_test_split\n",
    "from sklearn.metrics import accuracy_score\n",
    "from sklearn import svm\n",
    "\n",
    "interest_rate = .15\n",
    "credit_score = 700\n",
    "\n",
    "loan_data = pd.read_csv('loan_data.csv')\n",
    "X = loan_data.drop(columns = ['not.fully.paid'])\n",
    "y = loan_data['not.fully.paid']\n",
    "X_train, X_test, y_train, y_test = train_test_split(X, y, test_size = 0.2)\n",
    "\n",
    "model = svm.SVC(kernel = 'linear')\n",
    "model.fit(X_train, y_train)\n",
    "prediction = model.predict([[.15, 700]])\n",
    "\n",
    "print('SVM Prediction with interest rate of ' + str(interest_rate) + ' and credit score of ' + str(credit_score))\n",
    "prediction # 0 indicates that loan will be fully paid back, 1 indicates that the loan will not be paid back in full"
   ]
  },
  {
   "cell_type": "code",
   "execution_count": null,
   "metadata": {},
   "outputs": [],
   "source": []
  }
 ],
 "metadata": {
  "kernelspec": {
   "display_name": "Python 3",
   "language": "python",
   "name": "python3"
  },
  "language_info": {
   "codemirror_mode": {
    "name": "ipython",
    "version": 3
   },
   "file_extension": ".py",
   "mimetype": "text/x-python",
   "name": "python",
   "nbconvert_exporter": "python",
   "pygments_lexer": "ipython3",
   "version": "3.7.6"
  }
 },
 "nbformat": 4,
 "nbformat_minor": 4
}
